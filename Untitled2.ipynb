{
 "cells": [
  {
   "cell_type": "code",
   "execution_count": null,
   "id": "ca4fa49b",
   "metadata": {},
   "outputs": [],
   "source": []
  },
  {
   "cell_type": "code",
   "execution_count": 21,
   "id": "f5a6c7c9",
   "metadata": {},
   "outputs": [],
   "source": [
    "odd =255"
   ]
  },
  {
   "cell_type": "code",
   "execution_count": 22,
   "id": "7e5a5a5d",
   "metadata": {},
   "outputs": [],
   "source": [
    "favorite = odd / (odd+100) *100 "
   ]
  },
  {
   "cell_type": "code",
   "execution_count": 23,
   "id": "907f9e04",
   "metadata": {},
   "outputs": [
    {
     "data": {
      "text/plain": [
       "71.83098591549296"
      ]
     },
     "execution_count": 23,
     "metadata": {},
     "output_type": "execute_result"
    }
   ],
   "source": [
    "favorite"
   ]
  },
  {
   "cell_type": "code",
   "execution_count": 24,
   "id": "9ebb4786",
   "metadata": {},
   "outputs": [],
   "source": [
    "odd2 = 360"
   ]
  },
  {
   "cell_type": "code",
   "execution_count": 25,
   "id": "df858325",
   "metadata": {},
   "outputs": [],
   "source": [
    "underdog = 100/(odd2+100) *100"
   ]
  },
  {
   "cell_type": "code",
   "execution_count": 26,
   "id": "4db9fca9",
   "metadata": {},
   "outputs": [
    {
     "data": {
      "text/plain": [
       "21.73913043478261"
      ]
     },
     "execution_count": 26,
     "metadata": {},
     "output_type": "execute_result"
    }
   ],
   "source": [
    "underdog"
   ]
  },
  {
   "cell_type": "code",
   "execution_count": 14,
   "id": "0500c990",
   "metadata": {},
   "outputs": [
    {
     "data": {
      "text/plain": [
       "106.42988364972443"
      ]
     },
     "execution_count": 14,
     "metadata": {},
     "output_type": "execute_result"
    }
   ],
   "source": [
    "underdog+favorite"
   ]
  },
  {
   "cell_type": "code",
   "execution_count": null,
   "id": "9d2eb767",
   "metadata": {},
   "outputs": [],
   "source": []
  }
 ],
 "metadata": {
  "kernelspec": {
   "display_name": "Python 3 (ipykernel)",
   "language": "python",
   "name": "python3"
  },
  "language_info": {
   "codemirror_mode": {
    "name": "ipython",
    "version": 3
   },
   "file_extension": ".py",
   "mimetype": "text/x-python",
   "name": "python",
   "nbconvert_exporter": "python",
   "pygments_lexer": "ipython3",
   "version": "3.7.9"
  }
 },
 "nbformat": 4,
 "nbformat_minor": 5
}
