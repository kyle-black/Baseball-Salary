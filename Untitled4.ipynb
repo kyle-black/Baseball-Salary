{
 "cells": [
  {
   "cell_type": "code",
   "execution_count": 5,
   "id": "e2eb4308",
   "metadata": {},
   "outputs": [],
   "source": [
    "import pandas as pd"
   ]
  },
  {
   "cell_type": "code",
   "execution_count": 6,
   "id": "acba8f94",
   "metadata": {},
   "outputs": [],
   "source": [
    "df =pd.read_csv('data/player_data/ari/2022.csv',  skiprows=[0,4])"
   ]
  },
  {
   "cell_type": "code",
   "execution_count": 16,
   "id": "6e2a129d",
   "metadata": {},
   "outputs": [],
   "source": [
    "df =df[df['Name']!=\"League Average\"]"
   ]
  },
  {
   "cell_type": "code",
   "execution_count": 17,
   "id": "edec8c05",
   "metadata": {},
   "outputs": [],
   "source": [
    "df =df[df['Name']!=\"Team Total\"]"
   ]
  },
  {
   "cell_type": "code",
   "execution_count": 20,
   "id": "a1e74f97",
   "metadata": {},
   "outputs": [],
   "source": [
    "df = df.drop('-9999', axis=1)"
   ]
  },
  {
   "cell_type": "code",
   "execution_count": 22,
   "id": "d3b33bbc",
   "metadata": {},
   "outputs": [
    {
     "data": {
      "text/plain": [
       "Index(['Name', 'Age', 'PA', 'rOBA', 'Rbat+', 'BAbip', 'ISO', 'HR%', 'SO%',\n",
       "       'BB%', 'EV', 'HardH%', 'LD%', 'GB%', 'FB%', 'GB/FB', 'Pull%', 'Cent%',\n",
       "       'Oppo%', 'WPA', 'cWPA', 'RE24', 'RS%', 'SB%', 'XBT%'],\n",
       "      dtype='object')"
      ]
     },
     "execution_count": 22,
     "metadata": {},
     "output_type": "execute_result"
    }
   ],
   "source": [
    "df.columns"
   ]
  },
  {
   "cell_type": "code",
   "execution_count": null,
   "id": "cdf11817",
   "metadata": {},
   "outputs": [],
   "source": []
  }
 ],
 "metadata": {
  "kernelspec": {
   "display_name": "Python 3 (ipykernel)",
   "language": "python",
   "name": "python3"
  },
  "language_info": {
   "codemirror_mode": {
    "name": "ipython",
    "version": 3
   },
   "file_extension": ".py",
   "mimetype": "text/x-python",
   "name": "python",
   "nbconvert_exporter": "python",
   "pygments_lexer": "ipython3",
   "version": "3.7.9"
  }
 },
 "nbformat": 4,
 "nbformat_minor": 5
}
